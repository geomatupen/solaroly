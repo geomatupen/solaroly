{
 "cells": [
  {
   "cell_type": "markdown",
   "id": "1b203b87",
   "metadata": {},
   "source": [
    "# YOLOv9 to COCO Conversion Instructions (using OpenMMLab's mmyolo Tool)"
   ]
  },
  {
   "cell_type": "markdown",
   "id": "a17cc3a5",
   "metadata": {},
   "source": [
    "### Step 1: Clone the conversion tool"
   ]
  },
  {
   "cell_type": "code",
   "execution_count": 2,
   "id": "e64ff415",
   "metadata": {},
   "outputs": [
    {
     "name": "stdout",
     "output_type": "stream",
     "text": [
      "C:\\Users\\ROG\\Documents\\Termatics\\solaroly\\training_data\\mmyolo\\tools\\dataset_converters\n"
     ]
    },
    {
     "name": "stderr",
     "output_type": "stream",
     "text": [
      "fatal: destination path 'mmyolo' already exists and is not an empty directory.\n",
      "C:\\Users\\ROG\\.conda\\envs\\thermal-detector\\lib\\site-packages\\IPython\\core\\magics\\osm.py:417: UserWarning: This is now an optional IPython functionality, setting dhist requires you to install the `pickleshare` library.\n",
      "  self.shell.db['dhist'] = compress_dhist(dhist)[-100:]\n"
     ]
    }
   ],
   "source": [
    "!git clone https://github.com/open-mmlab/mmyolo.git\n"
   ]
  },
  {
   "cell_type": "markdown",
   "id": "5606a654",
   "metadata": {},
   "source": [
    "### Step 2: Install required Python packages"
   ]
  },
  {
   "cell_type": "code",
   "execution_count": 3,
   "id": "63c77778",
   "metadata": {},
   "outputs": [
    {
     "name": "stdout",
     "output_type": "stream",
     "text": [
      "Requirement already satisfied: mmcv in c:\\users\\rog\\.conda\\envs\\thermal-detector\\lib\\site-packages (2.2.0)\n",
      "Requirement already satisfied: opencv-python in c:\\users\\rog\\.conda\\envs\\thermal-detector\\lib\\site-packages (4.12.0.88)\n",
      "Requirement already satisfied: tqdm in c:\\users\\rog\\.conda\\envs\\thermal-detector\\lib\\site-packages (4.67.1)\n",
      "Requirement already satisfied: addict in c:\\users\\rog\\.conda\\envs\\thermal-detector\\lib\\site-packages (from mmcv) (2.4.0)\n",
      "Requirement already satisfied: mmengine>=0.3.0 in c:\\users\\rog\\.conda\\envs\\thermal-detector\\lib\\site-packages (from mmcv) (0.10.7)\n",
      "Requirement already satisfied: numpy in c:\\users\\rog\\.conda\\envs\\thermal-detector\\lib\\site-packages (from mmcv) (2.2.6)\n",
      "Requirement already satisfied: packaging in c:\\users\\rog\\.conda\\envs\\thermal-detector\\lib\\site-packages (from mmcv) (25.0)\n",
      "Requirement already satisfied: Pillow in c:\\users\\rog\\.conda\\envs\\thermal-detector\\lib\\site-packages (from mmcv) (11.3.0)\n",
      "Requirement already satisfied: pyyaml in c:\\users\\rog\\.conda\\envs\\thermal-detector\\lib\\site-packages (from mmcv) (6.0.2)\n",
      "Requirement already satisfied: regex in c:\\users\\rog\\.conda\\envs\\thermal-detector\\lib\\site-packages (from mmcv) (2025.7.34)\n",
      "Requirement already satisfied: yapf in c:\\users\\rog\\.conda\\envs\\thermal-detector\\lib\\site-packages (from mmcv) (0.43.0)\n",
      "Requirement already satisfied: colorama in c:\\users\\rog\\.conda\\envs\\thermal-detector\\lib\\site-packages (from tqdm) (0.4.6)\n",
      "Requirement already satisfied: matplotlib in c:\\users\\rog\\.conda\\envs\\thermal-detector\\lib\\site-packages (from mmengine>=0.3.0->mmcv) (3.10.5)\n",
      "Requirement already satisfied: rich in c:\\users\\rog\\.conda\\envs\\thermal-detector\\lib\\site-packages (from mmengine>=0.3.0->mmcv) (14.1.0)\n",
      "Requirement already satisfied: termcolor in c:\\users\\rog\\.conda\\envs\\thermal-detector\\lib\\site-packages (from mmengine>=0.3.0->mmcv) (3.1.0)\n",
      "Requirement already satisfied: contourpy>=1.0.1 in c:\\users\\rog\\.conda\\envs\\thermal-detector\\lib\\site-packages (from matplotlib->mmengine>=0.3.0->mmcv) (1.3.2)\n",
      "Requirement already satisfied: cycler>=0.10 in c:\\users\\rog\\.conda\\envs\\thermal-detector\\lib\\site-packages (from matplotlib->mmengine>=0.3.0->mmcv) (0.12.1)\n",
      "Requirement already satisfied: fonttools>=4.22.0 in c:\\users\\rog\\.conda\\envs\\thermal-detector\\lib\\site-packages (from matplotlib->mmengine>=0.3.0->mmcv) (4.59.0)\n",
      "Requirement already satisfied: kiwisolver>=1.3.1 in c:\\users\\rog\\.conda\\envs\\thermal-detector\\lib\\site-packages (from matplotlib->mmengine>=0.3.0->mmcv) (1.4.8)\n",
      "Requirement already satisfied: pyparsing>=2.3.1 in c:\\users\\rog\\.conda\\envs\\thermal-detector\\lib\\site-packages (from matplotlib->mmengine>=0.3.0->mmcv) (3.2.3)\n",
      "Requirement already satisfied: python-dateutil>=2.7 in c:\\users\\rog\\.conda\\envs\\thermal-detector\\lib\\site-packages (from matplotlib->mmengine>=0.3.0->mmcv) (2.9.0.post0)\n",
      "Requirement already satisfied: six>=1.5 in c:\\users\\rog\\.conda\\envs\\thermal-detector\\lib\\site-packages (from python-dateutil>=2.7->matplotlib->mmengine>=0.3.0->mmcv) (1.17.0)\n",
      "Requirement already satisfied: markdown-it-py>=2.2.0 in c:\\users\\rog\\.conda\\envs\\thermal-detector\\lib\\site-packages (from rich->mmengine>=0.3.0->mmcv) (3.0.0)\n",
      "Requirement already satisfied: pygments<3.0.0,>=2.13.0 in c:\\users\\rog\\.conda\\envs\\thermal-detector\\lib\\site-packages (from rich->mmengine>=0.3.0->mmcv) (2.19.2)\n",
      "Requirement already satisfied: mdurl~=0.1 in c:\\users\\rog\\.conda\\envs\\thermal-detector\\lib\\site-packages (from markdown-it-py>=2.2.0->rich->mmengine>=0.3.0->mmcv) (0.1.2)\n",
      "Requirement already satisfied: platformdirs>=3.5.1 in c:\\users\\rog\\.conda\\envs\\thermal-detector\\lib\\site-packages (from yapf->mmcv) (4.3.8)\n",
      "Requirement already satisfied: tomli>=2.0.1 in c:\\users\\rog\\.conda\\envs\\thermal-detector\\lib\\site-packages (from yapf->mmcv) (2.2.1)\n"
     ]
    }
   ],
   "source": [
    "!pip install mmcv opencv-python tqdm\n",
    "\n",
    "# If mmcv installation fails, try:\n",
    "# !pip install mmcv-full -f https://download.openmmlab.com/mmcv/dist/cpu/torch2.1/index.html\n"
   ]
  },
  {
   "cell_type": "markdown",
   "id": "9c839426",
   "metadata": {},
   "source": [
    "### Step 3: Organize your dataset\n",
    "Make sure your dataset follows this folder structure:\n",
    "\n",
    "```\n",
    "data/\n",
    "├── train/\n",
    "│   ├── images/\n",
    "│   └── labels/\n",
    "│   └── classes.txt\n",
    "├── valid/\n",
    "│   ├── images/\n",
    "│   └── labels/\n",
    "│   └── classes.txt\n",
    "```\n",
    "Each label `.txt` file should match its corresponding image filename, using YOLOv9 format."
   ]
  },
  {
   "cell_type": "markdown",
   "id": "abdd6686-37ef-43cf-b5f9-d6ac5c2b7f40",
   "metadata": {},
   "source": [
    "Also, classes.txt file should contain the classes in this structure: \n",
    "```\n",
    "Single Hotspot\n",
    "Multi Hotspots\n",
    "Single Diode\n",
    "Multi Diode\n",
    "Single Bypassed Substring\n",
    "Multi Bypassed Substring\n",
    "String (Open Circuit)\n",
    "String (Reversed Polarity)\n",
    "```"
   ]
  },
  {
   "cell_type": "markdown",
   "id": "21882a4c",
   "metadata": {},
   "source": [
    "### Step 4: Run conversion for train and valid sets"
   ]
  },
  {
   "cell_type": "code",
   "execution_count": 4,
   "id": "d0b77c41",
   "metadata": {},
   "outputs": [
    {
     "name": "stderr",
     "output_type": "stream",
     "text": [
      "python: can't open file 'C:\\\\Users\\\\ROG\\\\Documents\\\\Termatics\\\\solaroly\\\\training_data\\\\mmyolo\\\\tools\\\\dataset_converters\\\\mmyolo\\\\tools\\\\dataset_converters\\\\yolo2coco.py': [Errno 2] No such file or directory\n",
      "python: can't open file 'C:\\\\Users\\\\ROG\\\\Documents\\\\Termatics\\\\solaroly\\\\training_data\\\\mmyolo\\\\tools\\\\dataset_converters\\\\mmyolo\\\\tools\\\\dataset_converters\\\\yolo2coco.py': [Errno 2] No such file or directory\n"
     ]
    }
   ],
   "source": [
    "# Convert training set\n",
    "!python mmyolo/tools/dataset_converters/yolo2coco.py data/train\n",
    "\n",
    "# Convert validation set (optional)\n",
    "!python mmyolo/tools/dataset_converters/yolo2coco.py data/valid\n"
   ]
  },
  {
   "cell_type": "markdown",
   "id": "67204895-b49a-49fe-8299-52ef02b5c31f",
   "metadata": {},
   "source": [
    "It will create annotations -> result.json file which is a coco json inside data/train and data/test if you run both of the commands above. "
   ]
  },
  {
   "cell_type": "markdown",
   "id": "2ec68290",
   "metadata": {},
   "source": [
    "### Notes:\n",
    "- The script automatically detects `labels/` folder alongside `images/`\n",
    "- It supports both **bounding boxes** and **polygon segmentation** formats\n",
    "- The output `.json` is compatible with **Detectron2**, **MMDetection**, and other COCO-based frameworks"
   ]
  },
  {
   "cell_type": "code",
   "execution_count": null,
   "id": "470bfac3-d089-4d39-ab9d-a89b674ed769",
   "metadata": {},
   "outputs": [],
   "source": []
  },
  {
   "cell_type": "code",
   "execution_count": null,
   "id": "008d4c2e-d51e-4aba-9f72-cc2c214991a5",
   "metadata": {},
   "outputs": [],
   "source": []
  }
 ],
 "metadata": {
  "kernelspec": {
   "display_name": "Python (thermal-detector)",
   "language": "python",
   "name": "thermal-detector"
  },
  "language_info": {
   "codemirror_mode": {
    "name": "ipython",
    "version": 3
   },
   "file_extension": ".py",
   "mimetype": "text/x-python",
   "name": "python",
   "nbconvert_exporter": "python",
   "pygments_lexer": "ipython3",
   "version": "3.10.18"
  }
 },
 "nbformat": 4,
 "nbformat_minor": 5
}
