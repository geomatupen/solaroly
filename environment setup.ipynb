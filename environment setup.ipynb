{
 "cells": [
  {
   "cell_type": "markdown",
   "id": "01eec7c3-809f-47ff-aae6-42f0e37db10a",
   "metadata": {},
   "source": [
    "# Anomaly Detection Inference and Matching Pipeline"
   ]
  },
  {
   "cell_type": "markdown",
   "id": "ca3818bd-fd23-4baf-b372-91e7d145e2f8",
   "metadata": {},
   "source": [
    "```\n",
    "### Remove environment if exists\n",
    "\n",
    "conda env remove -n thermal-detector\n",
    "\n",
    "### Recreate environment with packages\n",
    "conda create -n thermal-detector python=3.10 -y\n",
    "conda activate thermal-detector\n",
    "\n",
    "### Install base dependencies\n",
    "pip install numpy==1.24.4\n",
    "pip install opencv-python\n",
    "pip install torch torchvision torchaudio --index-url https://download.pytorch.org/whl/cu118\n",
    "\n",
    "### Detectron2 (if you already have local repo)\n",
    "cd path\\to\\your\\detectron2\n",
    "pip install -e .\n",
    "\n",
    "### Install geospatial and helper packages\n",
    "pip install rasterio geopandas shapely pyproj matplotlib tqdm click\n",
    "```"
   ]
  },
  {
   "cell_type": "markdown",
   "id": "6b3b122d-6c65-475c-87e5-f67bcd70f416",
   "metadata": {},
   "source": [
    "### Add environment to Jupyter Notebook"
   ]
  },
  {
   "cell_type": "markdown",
   "id": "25acf31b-dae6-4727-94f7-59f84a9ad496",
   "metadata": {},
   "source": [
    "```\n",
    "pip install ipykernel\n",
    "python -m ipykernel install --user --name thermal-detector --display-name \"Python (thermal-detector)\"\n",
    "```\n"
   ]
  },
  {
   "cell_type": "code",
   "execution_count": null,
   "id": "f1f0fbe4-3994-448c-9ca4-2a8b0db82002",
   "metadata": {},
   "outputs": [],
   "source": []
  }
 ],
 "metadata": {
  "kernelspec": {
   "display_name": "Python (thermal-detector)",
   "language": "python",
   "name": "thermal-detector"
  },
  "language_info": {
   "codemirror_mode": {
    "name": "ipython",
    "version": 3
   },
   "file_extension": ".py",
   "mimetype": "text/x-python",
   "name": "python",
   "nbconvert_exporter": "python",
   "pygments_lexer": "ipython3",
   "version": "3.10.18"
  }
 },
 "nbformat": 4,
 "nbformat_minor": 5
}
